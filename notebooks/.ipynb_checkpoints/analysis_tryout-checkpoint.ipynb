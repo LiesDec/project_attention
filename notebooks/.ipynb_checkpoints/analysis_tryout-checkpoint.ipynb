{
 "cells": [
  {
   "cell_type": "code",
   "execution_count": 1,
   "id": "48b1a12d-59b3-47c4-9925-a3612a723b8b",
   "metadata": {},
   "outputs": [],
   "source": [
    "import fklab.analysis.core.context as con\n",
    "import pandas as pd\n",
    "import mat73\n",
    "\n",
    "import h5py\n",
    "from attentionAnalyses.utilities import get_files_path"
   ]
  },
  {
   "cell_type": "code",
   "execution_count": 4,
   "id": "8d08fe38-2f38-4e20-96f5-46de5dcf8ffd",
   "metadata": {},
   "outputs": [
    {
     "name": "stdout",
     "output_type": "stream",
     "text": [
      "['02203/m01', '02203/m02', '02275/m01', '02276/m01', '02277/m01', '02317/m01', '02318/m01', '02352/m01']\n",
      "CamPath\n",
      "1     Data/02203/headfixed/m01/raw/Cam/Animal2203a_2...\n",
      "30                                                  NaN\n",
      "40    Data/02203/headfixed/m01/raw/Cam/Animal2203a_2...\n",
      "52    Data/02203/headfixed/m01/raw/Cam/Animal2203a_2...\n",
      "64    Data/02203/headfixed/m01/raw/Cam/Animal2203a_2...\n",
      "71    Data/02203/headfixed/m01/raw/Cam/Animal2203a_2...\n",
      "72    Data/02203/headfixed/m01/raw/Cam/Animal2203a_2...\n",
      "82    Data/02203/headfixed/m01/raw/Cam/Animal2203a_2...\n",
      "87    Data/02203/headfixed/m01/raw/Cam/Animal2203a_2...\n",
      "93    Data/02203/headfixed/m01/raw/Cam/Animal2203a_2...\n",
      "Name: CamPath, dtype: object\n"
     ]
    },
    {
     "name": "stderr",
     "output_type": "stream",
     "text": [
      "/Users/liesdeceuninck/Kloostermannerflab/analysis_context/fklab/analysis/core/config.py:85: ParamFutureWarning: 'params' has been deprecated and will be removed in a future version. Use instead `.param.values()` or `.param['param']`\n",
      "  parameters = p.param.params()\n"
     ]
    },
    {
     "data": {
      "text/plain": [
       "'[ \"mnt/farrowlab/farrowlabwip2024/Data/02203/headfixed/m01/raw/Cam/Animal2203a_240603_1430/Basler_acA1920-150um__40268284__20240603_143035413.mp4\", \"mnt/farrowlab/farrowlabwip2024/Data/02203/headfixed/m01/raw/Cam/Animal2203a_240524_1431/Basler_acA1920-150um__40268284__20240524_143059403.mp4\", \"mnt/farrowlab/farrowlabwip2024/Data/02203/headfixed/m01/raw/Cam/Animal2203a_240521_1524/Basler_acA1920-150um__40268284__20240521_152444589.mp4\", \"mnt/farrowlab/farrowlabwip2024/Data/02203/headfixed/m01/raw/Cam/Animal2203a_240523_1504/Basler_acA1920-150um__40268284__20240523_150417655.mp4\", \"mnt/farrowlab/farrowlabwip2024/Data/02203/headfixed/m01/raw/Cam/Animal2203a_240525_1422/Basler_acA1920-150um__40268284__20240525_142246035.mp4\", \"mnt/farrowlab/farrowlabwip2024/Data/02203/headfixed/m01/raw/Cam/Animal2203a_240527_1446/Basler_acA1920-150um__40268284__20240527_144622486.mp4\", \"mnt/farrowlab/farrowlabwip2024/Data/02203/headfixed/m01/raw/Cam/Animal2203a_240526_1431/Basler_acA1920-150um__40268284__20240526_143112265.mp4\", \"mnt/farrowlab/farrowlabwip2024/Data/02203/headfixed/m01/raw/Cam/Animal2203a_240604_1458/Basler_acA1920-150um__40268284__20240604_145810154.mp4\", \"mnt/farrowlab/farrowlabwip2024/Data/02203/headfixed/m01/raw/Cam/Animal2203a_240522_1133/Basler_acA1920-150um__40268284__20240522_113331046.mp4\" ]'"
      ]
     },
     "execution_count": 4,
     "metadata": {},
     "output_type": "execute_result"
    }
   ],
   "source": [
    "context = con.AnalysisContext(\"/Volumes/nerfceph/farrowlabwip2024/Data/\")\n",
    "print(context.config.mouseIDs)\n",
    "mouse_context = context['experiment/02203/type/headfixed/mouseID/m01']\n",
    "paths = get_files_path(context, mouseIDs=['02203/m01'], sessionTypes = ['SpatialTask_100'], fileTypes = ['CamPath'], OS = 'mac', root = 'mnt/farrowlab/farrowlabwip2024/')\n",
    "# # Convert to MATLAB array format\n",
    "array = \"[ \" + \", \".join(f'\"{path}\"' for path in paths) + \" ]\"\n",
    "\n",
    "# # Print the result for MATLAB usage\n",
    "# print(matlab_array)\n",
    "array\n"
   ]
  },
  {
   "cell_type": "code",
   "execution_count": 9,
   "id": "69004ad6-de7e-4c40-9415-949bc0d81336",
   "metadata": {},
   "outputs": [
    {
     "name": "stdout",
     "output_type": "stream",
     "text": [
      "240812_1200\n",
      "240830_1150\n",
      "240913_1235\n",
      "240910_1420\n",
      "240917_0957\n",
      "240816_1143\n",
      "240810_1237\n",
      "240731_1134\n",
      "240902_1518\n",
      "240913_1419\n",
      "240830_0939\n",
      "240811_1640\n",
      "240917_0956\n",
      "240812_1003\n",
      "240917_1152\n",
      "240821_1452\n",
      "240809_1001\n",
      "240904_1500\n",
      "240901_1217\n",
      "240814_0944\n",
      "240808_0943\n",
      "240811_1456\n",
      "240820_1444\n",
      "240908_1530\n",
      "240823_1450\n",
      "240813_1132\n",
      "240801_1506\n",
      "240917_0955\n",
      "240816_1200\n",
      "240904_1320\n",
      "240810_1438\n",
      "240901_1032\n",
      "240912_1246\n",
      "240822_1515\n",
      "240902_1459\n",
      "240916_1521\n",
      "240730_1106\n",
      "240901_1333\n",
      "240821_1306\n",
      "240910_1603\n",
      "240808_1152\n",
      "240828_1527\n",
      "240909_1611\n",
      "240829_1644\n",
      "240821_1508\n",
      "240822_1532\n",
      "240829_1841\n",
      "240814_1145\n",
      "240811_1656\n",
      "240810_1420\n",
      "240819_1254\n",
      "240819_1456\n",
      "240814_1129\n",
      "240911_1207\n",
      "240730_1001\n",
      "240902_1255\n",
      "240806_1156\n",
      "240828_1308\n",
      "240830_1135\n",
      "240802_1124\n",
      "240903_1303\n",
      "240805_1430\n",
      "240805_1254\n",
      "240731_1020\n",
      "240829_1857\n",
      "240726_1735\n",
      "240820_1259\n",
      "240908_1545\n",
      "240901_1317\n",
      "240806_1009\n",
      "240729_1000\n",
      "240809_1152\n",
      "240802_1139\n",
      "240813_1148\n",
      "240911_1255\n",
      "240801_1354\n",
      "240808_1136\n",
      "240901_1237\n",
      "240815_1215\n",
      "240822_1323\n",
      "240823_1247\n",
      "240917_1000\n",
      "240831_1123\n",
      "240907_1451\n",
      "240816_0955\n",
      "240831_1309\n",
      "240805_1412\n",
      "240909_1419\n",
      "240903_1513\n",
      "240908_1339\n",
      "240916_1328\n",
      "240809_1214\n",
      "240831_1326\n",
      "240815_1006\n",
      "240912_1437\n",
      "240815_1157\n",
      "240726_1636\n",
      "240823_1434\n",
      "240813_0941\n",
      "240806_1127\n",
      "240819_1441\n",
      "240903_1456\n",
      "240802_1017\n",
      "240907_1436\n",
      "240907_1246\n",
      "240828_1458\n",
      "240820_1503\n",
      "240812_1215\n"
     ]
    }
   ],
   "source": [
    "import os\n",
    "import shutil\n",
    "\n",
    "stim_path = '/Volumes/nerfceph/farrowlabwip2024/Data/02318/headfixed/m01/raw/StimFiles'\n",
    "cam_path = '/Volumes/nerfceph/farrowlabwip2024/Data/02318/headfixed/m01/raw/Cam'\n",
    "\n",
    "# Loop over folders in StimFiles\n",
    "for folder_name in os.listdir(stim_path):\n",
    "    stim_folder = os.path.join(stim_path, folder_name)\n",
    "    if not os.path.isdir(stim_folder):\n",
    "        continue  # Skip non-folders\n",
    "\n",
    "    # Extract timestamp substring from folder name\n",
    "    match_key = folder_name[11:22]  # 9 characters\n",
    "    print(match_key)\n",
    "\n",
    "    # Create corresponding folder in Cam\n",
    "    cam_folder = os.path.join(cam_path, folder_name)\n",
    "    os.makedirs(cam_folder, exist_ok=True)\n",
    "\n",
    "    # Loop through files in the Cam root (not subfolders)\n",
    "    for file_name in os.listdir(os.path.join(cam_path)):\n",
    "        file_path = os.path.join(cam_path,file_name)\n",
    "        if os.path.isfile(file_path) and match_key in file_name:\n",
    "            # Move the matching file into the new folder\n",
    "            shutil.move(file_path, os.path.join(cam_folder, file_name))\n",
    "            print(f'movie session {match_key} moved') "
   ]
  },
  {
   "cell_type": "code",
   "execution_count": 3,
   "id": "99d0835c-e6d8-439f-a914-792e09df693b",
   "metadata": {},
   "outputs": [
    {
     "name": "stderr",
     "output_type": "stream",
     "text": [
      "WARNING:root:Can only load MATLAB .mat file, this file type might be unsupported: /Volumes/nerfceph/farrowlabwip2024/mnt/farrowlab/farrowlabwip2024/Data/02203/headfixed/m01/raw/Cam/Animal2203a_240603_1430/Basler_acA1920-150um__40268284__20240603_143035413.mp4\n"
     ]
    },
    {
     "ename": "FileNotFoundError",
     "evalue": "[Errno 2] Unable to synchronously open file (unable to open file: name = '/Volumes/nerfceph/farrowlabwip2024/mnt/farrowlab/farrowlabwip2024/Data/02203/headfixed/m01/raw/Cam/Animal2203a_240603_1430/Basler_acA1920-150um__40268284__20240603_143035413.mp4', errno = 2, error message = 'No such file or directory', flags = 0, o_flags = 0)",
     "output_type": "error",
     "traceback": [
      "\u001b[0;31m---------------------------------------------------------------------------\u001b[0m",
      "\u001b[0;31mFileNotFoundError\u001b[0m                         Traceback (most recent call last)",
      "Cell \u001b[0;32mIn[3], line 1\u001b[0m\n\u001b[0;32m----> 1\u001b[0m stimData \u001b[38;5;241m=\u001b[39m \u001b[43mmat73\u001b[49m\u001b[38;5;241;43m.\u001b[39;49m\u001b[43mloadmat\u001b[49m\u001b[43m(\u001b[49m\u001b[38;5;124;43m'\u001b[39;49m\u001b[38;5;124;43m/Volumes/nerfceph/farrowlabwip2024/\u001b[39;49m\u001b[38;5;124;43m'\u001b[39;49m\u001b[43m \u001b[49m\u001b[38;5;241;43m+\u001b[39;49m\u001b[43m \u001b[49m\u001b[43mpaths\u001b[49m\u001b[43m[\u001b[49m\u001b[38;5;241;43m0\u001b[39;49m\u001b[43m]\u001b[49m\u001b[43m)\u001b[49m\n",
      "File \u001b[0;32m~/miniconda3/envs/farrowlab/lib/python3.9/site-packages/mat73/core.py:346\u001b[0m, in \u001b[0;36mloadmat\u001b[0;34m(file, use_attrdict, only_include, verbose)\u001b[0m\n\u001b[1;32m    342\u001b[0m         logging\u001b[38;5;241m.\u001b[39mwarning(\u001b[38;5;124m'\u001b[39m\u001b[38;5;124mCan only load MATLAB .mat file, this file type might \u001b[39m\u001b[38;5;124m'\u001b[39m\n\u001b[1;32m    343\u001b[0m                         \u001b[38;5;124mf\u001b[39m\u001b[38;5;124m'\u001b[39m\u001b[38;5;124mbe unsupported: \u001b[39m\u001b[38;5;132;01m{\u001b[39;00mfile\u001b[38;5;132;01m}\u001b[39;00m\u001b[38;5;124m'\u001b[39m)\n\u001b[1;32m    345\u001b[0m \u001b[38;5;28;01mtry\u001b[39;00m:\n\u001b[0;32m--> 346\u001b[0m     \u001b[38;5;28;01mwith\u001b[39;00m \u001b[43mh5py\u001b[49m\u001b[38;5;241;43m.\u001b[39;49m\u001b[43mFile\u001b[49m\u001b[43m(\u001b[49m\u001b[43mfile\u001b[49m\u001b[43m,\u001b[49m\u001b[43m \u001b[49m\u001b[38;5;124;43m'\u001b[39;49m\u001b[38;5;124;43mr\u001b[39;49m\u001b[38;5;124;43m'\u001b[39;49m\u001b[43m)\u001b[49m \u001b[38;5;28;01mas\u001b[39;00m hdf5:\n\u001b[1;32m    347\u001b[0m         dictionary \u001b[38;5;241m=\u001b[39m decoder\u001b[38;5;241m.\u001b[39mmat2dict(hdf5)\n\u001b[1;32m    348\u001b[0m     \u001b[38;5;28;01mreturn\u001b[39;00m dictionary\n",
      "File \u001b[0;32m~/miniconda3/envs/farrowlab/lib/python3.9/site-packages/h5py/_hl/files.py:564\u001b[0m, in \u001b[0;36mFile.__init__\u001b[0;34m(self, name, mode, driver, libver, userblock_size, swmr, rdcc_nslots, rdcc_nbytes, rdcc_w0, track_order, fs_strategy, fs_persist, fs_threshold, fs_page_size, page_buf_size, min_meta_keep, min_raw_keep, locking, alignment_threshold, alignment_interval, meta_block_size, **kwds)\u001b[0m\n\u001b[1;32m    555\u001b[0m     fapl \u001b[38;5;241m=\u001b[39m make_fapl(driver, libver, rdcc_nslots, rdcc_nbytes, rdcc_w0,\n\u001b[1;32m    556\u001b[0m                      locking, page_buf_size, min_meta_keep, min_raw_keep,\n\u001b[1;32m    557\u001b[0m                      alignment_threshold\u001b[38;5;241m=\u001b[39malignment_threshold,\n\u001b[1;32m    558\u001b[0m                      alignment_interval\u001b[38;5;241m=\u001b[39malignment_interval,\n\u001b[1;32m    559\u001b[0m                      meta_block_size\u001b[38;5;241m=\u001b[39mmeta_block_size,\n\u001b[1;32m    560\u001b[0m                      \u001b[38;5;241m*\u001b[39m\u001b[38;5;241m*\u001b[39mkwds)\n\u001b[1;32m    561\u001b[0m     fcpl \u001b[38;5;241m=\u001b[39m make_fcpl(track_order\u001b[38;5;241m=\u001b[39mtrack_order, fs_strategy\u001b[38;5;241m=\u001b[39mfs_strategy,\n\u001b[1;32m    562\u001b[0m                      fs_persist\u001b[38;5;241m=\u001b[39mfs_persist, fs_threshold\u001b[38;5;241m=\u001b[39mfs_threshold,\n\u001b[1;32m    563\u001b[0m                      fs_page_size\u001b[38;5;241m=\u001b[39mfs_page_size)\n\u001b[0;32m--> 564\u001b[0m     fid \u001b[38;5;241m=\u001b[39m \u001b[43mmake_fid\u001b[49m\u001b[43m(\u001b[49m\u001b[43mname\u001b[49m\u001b[43m,\u001b[49m\u001b[43m \u001b[49m\u001b[43mmode\u001b[49m\u001b[43m,\u001b[49m\u001b[43m \u001b[49m\u001b[43muserblock_size\u001b[49m\u001b[43m,\u001b[49m\u001b[43m \u001b[49m\u001b[43mfapl\u001b[49m\u001b[43m,\u001b[49m\u001b[43m \u001b[49m\u001b[43mfcpl\u001b[49m\u001b[43m,\u001b[49m\u001b[43m \u001b[49m\u001b[43mswmr\u001b[49m\u001b[38;5;241;43m=\u001b[39;49m\u001b[43mswmr\u001b[49m\u001b[43m)\u001b[49m\n\u001b[1;32m    566\u001b[0m \u001b[38;5;28;01mif\u001b[39;00m \u001b[38;5;28misinstance\u001b[39m(libver, \u001b[38;5;28mtuple\u001b[39m):\n\u001b[1;32m    567\u001b[0m     \u001b[38;5;28mself\u001b[39m\u001b[38;5;241m.\u001b[39m_libver \u001b[38;5;241m=\u001b[39m libver\n",
      "File \u001b[0;32m~/miniconda3/envs/farrowlab/lib/python3.9/site-packages/h5py/_hl/files.py:238\u001b[0m, in \u001b[0;36mmake_fid\u001b[0;34m(name, mode, userblock_size, fapl, fcpl, swmr)\u001b[0m\n\u001b[1;32m    236\u001b[0m     \u001b[38;5;28;01mif\u001b[39;00m swmr \u001b[38;5;129;01mand\u001b[39;00m swmr_support:\n\u001b[1;32m    237\u001b[0m         flags \u001b[38;5;241m|\u001b[39m\u001b[38;5;241m=\u001b[39m h5f\u001b[38;5;241m.\u001b[39mACC_SWMR_READ\n\u001b[0;32m--> 238\u001b[0m     fid \u001b[38;5;241m=\u001b[39m \u001b[43mh5f\u001b[49m\u001b[38;5;241;43m.\u001b[39;49m\u001b[43mopen\u001b[49m\u001b[43m(\u001b[49m\u001b[43mname\u001b[49m\u001b[43m,\u001b[49m\u001b[43m \u001b[49m\u001b[43mflags\u001b[49m\u001b[43m,\u001b[49m\u001b[43m \u001b[49m\u001b[43mfapl\u001b[49m\u001b[38;5;241;43m=\u001b[39;49m\u001b[43mfapl\u001b[49m\u001b[43m)\u001b[49m\n\u001b[1;32m    239\u001b[0m \u001b[38;5;28;01melif\u001b[39;00m mode \u001b[38;5;241m==\u001b[39m \u001b[38;5;124m'\u001b[39m\u001b[38;5;124mr+\u001b[39m\u001b[38;5;124m'\u001b[39m:\n\u001b[1;32m    240\u001b[0m     fid \u001b[38;5;241m=\u001b[39m h5f\u001b[38;5;241m.\u001b[39mopen(name, h5f\u001b[38;5;241m.\u001b[39mACC_RDWR, fapl\u001b[38;5;241m=\u001b[39mfapl)\n",
      "File \u001b[0;32mh5py/_objects.pyx:54\u001b[0m, in \u001b[0;36mh5py._objects.with_phil.wrapper\u001b[0;34m()\u001b[0m\n",
      "File \u001b[0;32mh5py/_objects.pyx:55\u001b[0m, in \u001b[0;36mh5py._objects.with_phil.wrapper\u001b[0;34m()\u001b[0m\n",
      "File \u001b[0;32mh5py/h5f.pyx:102\u001b[0m, in \u001b[0;36mh5py.h5f.open\u001b[0;34m()\u001b[0m\n",
      "\u001b[0;31mFileNotFoundError\u001b[0m: [Errno 2] Unable to synchronously open file (unable to open file: name = '/Volumes/nerfceph/farrowlabwip2024/mnt/farrowlab/farrowlabwip2024/Data/02203/headfixed/m01/raw/Cam/Animal2203a_240603_1430/Basler_acA1920-150um__40268284__20240603_143035413.mp4', errno = 2, error message = 'No such file or directory', flags = 0, o_flags = 0)"
     ]
    }
   ],
   "source": [
    "stimData = mat73.loadmat('/Volumes/nerfceph/farrowlabwip2024/' + paths[0])"
   ]
  },
  {
   "cell_type": "code",
   "execution_count": 43,
   "id": "0628662a-a5e5-43ab-bc60-9dd619c1036b",
   "metadata": {},
   "outputs": [
    {
     "data": {
      "text/plain": [
       "dict_keys(['ALI', 'ALIcorrect', 'ALIwrong', 'Background', 'BallCamData', 'BallCamTiming', 'CameraTiming', 'Frameinfo', 'LI', 'P', 'Pcorrect', 'Pwrong', 'RewardMode', 'StateOfAgentHistory', 'StimTime', 'StimulusColour', 'StimulusContrast', 'Tend', 'cue', 'cueLength', 'e', 'errorLicks', 'i', 'ifi', 'level', 'levelHistory', 'lickData', 'lickWindowMax', 'lickWindowMin', 'locationMode', 'maxErrorLicks', 'maxWait', 'minWait', 'options', 'postCueDelay', 'randomseed', 'redFrames', 'stimHistory', 'stimLocationHistory', 'stimLocationHistoryPX', 'stimdata', 'stimulusLicks', 'stimulusType', 'subsessions', 'subsessionwait', 'timeend', 'timestart', 'waitTimes', 'weight'])"
      ]
     },
     "execution_count": 43,
     "metadata": {},
     "output_type": "execute_result"
    }
   ],
   "source": [
    "stimData.keys()"
   ]
  },
  {
   "cell_type": "code",
   "execution_count": 50,
   "id": "7a0e7127-aa16-495d-b321-578cfe36ee04",
   "metadata": {},
   "outputs": [
    {
     "data": {
      "text/plain": [
       "dict_keys(['Attention', 'Frameinfo', 'SetUp', 'Trialtsecbegin', 'addnote', 'full_screen_az', 'full_screen_el', 'maxintensity', 'projectortype', 'randomseed', 'red_sync_nth_frame', 'redintensity', 'relativeintensity', 'reset_rng_each_trial', 'specParams', 'stimulus_trial_t', 'timeend', 'timestart', 'trials', 'tsecbegin', 'tsecend', 'type', 'update_each_nth_frame', 'wait_col', 'wait_exit', 'wait_init', 'waitrange_between_trials'])"
      ]
     },
     "execution_count": 50,
     "metadata": {},
     "output_type": "execute_result"
    }
   ],
   "source": [
    "stimData['options'].keys()\n",
    "\n"
   ]
  },
  {
   "cell_type": "code",
   "execution_count": 66,
   "id": "268953fd-55ee-4058-8639-87425006e271",
   "metadata": {},
   "outputs": [
    {
     "data": {
      "text/plain": [
       "\u001b[0;31mSignature:\u001b[0m\n",
       "\u001b[0mnp\u001b[0m\u001b[0;34m.\u001b[0m\u001b[0mfull\u001b[0m\u001b[0;34m(\u001b[0m\u001b[0;34m\u001b[0m\n",
       "\u001b[0;34m\u001b[0m    \u001b[0mshape\u001b[0m\u001b[0;34m,\u001b[0m\u001b[0;34m\u001b[0m\n",
       "\u001b[0;34m\u001b[0m    \u001b[0mfill_value\u001b[0m\u001b[0;34m,\u001b[0m\u001b[0;34m\u001b[0m\n",
       "\u001b[0;34m\u001b[0m    \u001b[0mdtype\u001b[0m\u001b[0;34m=\u001b[0m\u001b[0;32mNone\u001b[0m\u001b[0;34m,\u001b[0m\u001b[0;34m\u001b[0m\n",
       "\u001b[0;34m\u001b[0m    \u001b[0morder\u001b[0m\u001b[0;34m=\u001b[0m\u001b[0;34m'C'\u001b[0m\u001b[0;34m,\u001b[0m\u001b[0;34m\u001b[0m\n",
       "\u001b[0;34m\u001b[0m    \u001b[0;34m*\u001b[0m\u001b[0;34m,\u001b[0m\u001b[0;34m\u001b[0m\n",
       "\u001b[0;34m\u001b[0m    \u001b[0mdevice\u001b[0m\u001b[0;34m=\u001b[0m\u001b[0;32mNone\u001b[0m\u001b[0;34m,\u001b[0m\u001b[0;34m\u001b[0m\n",
       "\u001b[0;34m\u001b[0m    \u001b[0mlike\u001b[0m\u001b[0;34m=\u001b[0m\u001b[0;32mNone\u001b[0m\u001b[0;34m,\u001b[0m\u001b[0;34m\u001b[0m\n",
       "\u001b[0;34m\u001b[0m\u001b[0;34m)\u001b[0m\u001b[0;34m\u001b[0m\u001b[0;34m\u001b[0m\u001b[0m\n",
       "\u001b[0;31mDocstring:\u001b[0m\n",
       "Return a new array of given shape and type, filled with `fill_value`.\n",
       "\n",
       "Parameters\n",
       "----------\n",
       "shape : int or sequence of ints\n",
       "    Shape of the new array, e.g., ``(2, 3)`` or ``2``.\n",
       "fill_value : scalar or array_like\n",
       "    Fill value.\n",
       "dtype : data-type, optional\n",
       "    The desired data-type for the array  The default, None, means\n",
       "     ``np.array(fill_value).dtype``.\n",
       "order : {'C', 'F'}, optional\n",
       "    Whether to store multidimensional data in C- or Fortran-contiguous\n",
       "    (row- or column-wise) order in memory.\n",
       "device : str, optional\n",
       "    The device on which to place the created array. Default: None.\n",
       "    For Array-API interoperability only, so must be ``\"cpu\"`` if passed.\n",
       "\n",
       "    .. versionadded:: 2.0.0\n",
       "like : array_like, optional\n",
       "    Reference object to allow the creation of arrays which are not\n",
       "    NumPy arrays. If an array-like passed in as ``like`` supports\n",
       "    the ``__array_function__`` protocol, the result will be defined\n",
       "    by it. In this case, it ensures the creation of an array object\n",
       "    compatible with that passed in via this argument.\n",
       "\n",
       "    .. versionadded:: 1.20.0\n",
       "\n",
       "Returns\n",
       "-------\n",
       "out : ndarray\n",
       "    Array of `fill_value` with the given shape, dtype, and order.\n",
       "\n",
       "See Also\n",
       "--------\n",
       "full_like : Return a new array with shape of input filled with value.\n",
       "empty : Return a new uninitialized array.\n",
       "ones : Return a new array setting values to one.\n",
       "zeros : Return a new array setting values to zero.\n",
       "\n",
       "Examples\n",
       "--------\n",
       ">>> np.full((2, 2), np.inf)\n",
       "array([[inf, inf],\n",
       "       [inf, inf]])\n",
       ">>> np.full((2, 2), 10)\n",
       "array([[10, 10],\n",
       "       [10, 10]])\n",
       "\n",
       ">>> np.full((2, 2), [1, 2])\n",
       "array([[1, 2],\n",
       "       [1, 2]])\n",
       "\u001b[0;31mFile:\u001b[0m      ~/miniconda3/envs/farrowlab/lib/python3.9/site-packages/numpy/_core/numeric.py\n",
       "\u001b[0;31mType:\u001b[0m      function"
      ]
     },
     "metadata": {},
     "output_type": "display_data"
    }
   ],
   "source": [
    "import numpy as np\n",
    "np.full?"
   ]
  },
  {
   "cell_type": "code",
   "execution_count": 67,
   "id": "a4f6e788-f8e9-4ba3-8a1a-d39c37ceed97",
   "metadata": {},
   "outputs": [
    {
     "ename": "KeyError",
     "evalue": "'No such tagged analysis exists.'",
     "output_type": "error",
     "traceback": [
      "\u001b[0;31m---------------------------------------------------------------------------\u001b[0m",
      "\u001b[0;31mKeyError\u001b[0m                                  Traceback (most recent call last)",
      "Cell \u001b[0;32mIn[67], line 1\u001b[0m\n\u001b[0;32m----> 1\u001b[0m stimFileAnalysis \u001b[38;5;241m=\u001b[39m \u001b[43mmouse_context\u001b[49m\u001b[38;5;241;43m.\u001b[39;49m\u001b[43manalysis\u001b[49m\u001b[43m[\u001b[49m\u001b[38;5;124;43m\"\u001b[39;49m\u001b[38;5;124;43m.stimFileAnalysis/session=2203a_240603\u001b[39;49m\u001b[38;5;124;43m\"\u001b[39;49m\u001b[43m]\u001b[49m\u001b[38;5;241m.\u001b[39mget()\u001b[38;5;241m.\u001b[39mresult\n\u001b[1;32m      2\u001b[0m \u001b[38;5;66;03m# behaviorData\" : np.ndarray, shape (4, T, N)\u001b[39;00m\n\u001b[1;32m      3\u001b[0m \u001b[38;5;66;03m#         Trial-aligned behavioral data where:\u001b[39;00m\n\u001b[1;32m      4\u001b[0m \u001b[38;5;66;03m#             - Axis 0 (length 4): signal types\u001b[39;00m\n\u001b[0;32m   (...)\u001b[0m\n\u001b[1;32m      9\u001b[0m \u001b[38;5;66;03m#             - Axis 1 (length T): time points per trial (T = frameRate * (secondsBefore + secondsAfter))\u001b[39;00m\n\u001b[1;32m     10\u001b[0m \u001b[38;5;66;03m#             - Axis 2 (length N): number of trials\u001b[39;00m\n\u001b[1;32m     11\u001b[0m forwardVelocity \u001b[38;5;241m=\u001b[39m stimFileAnalysis[\u001b[38;5;124m'\u001b[39m\u001b[38;5;124mbehaviorData\u001b[39m\u001b[38;5;124m'\u001b[39m][\u001b[38;5;241m1\u001b[39m,:,:] \u001b[38;5;66;03m#time x trials\u001b[39;00m\n",
      "File \u001b[0;32m~/Kloostermannerflab/analysis_context/fklab/analysis/core/analysis_mapper.py:113\u001b[0m, in \u001b[0;36mAnalysisMapper.__getitem__\u001b[0;34m(self, key)\u001b[0m\n\u001b[1;32m    110\u001b[0m obj \u001b[38;5;241m=\u001b[39m TaggedAnalysisMapper(\u001b[38;5;28mself\u001b[39m\u001b[38;5;241m.\u001b[39m_context, key)\n\u001b[1;32m    112\u001b[0m \u001b[38;5;28;01mif\u001b[39;00m \u001b[38;5;28mlen\u001b[39m(rest) \u001b[38;5;241m>\u001b[39m \u001b[38;5;241m0\u001b[39m:\n\u001b[0;32m--> 113\u001b[0m     obj \u001b[38;5;241m=\u001b[39m \u001b[43mobj\u001b[49m\u001b[38;5;241;43m.\u001b[39;49m\u001b[38;5;21;43m__getitem__\u001b[39;49m\u001b[43m(\u001b[49m\u001b[43mrest\u001b[49m\u001b[43m)\u001b[49m\n\u001b[1;32m    115\u001b[0m \u001b[38;5;28;01mreturn\u001b[39;00m obj\n",
      "File \u001b[0;32m~/Kloostermannerflab/analysis_context/fklab/analysis/core/analysis_mapper.py:217\u001b[0m, in \u001b[0;36mTaggedAnalysisMapper.__getitem__\u001b[0;34m(self, key)\u001b[0m\n\u001b[1;32m    215\u001b[0m \u001b[38;5;28;01mdef\u001b[39;00m\u001b[38;5;250m \u001b[39m\u001b[38;5;21m__getitem__\u001b[39m(\u001b[38;5;28mself\u001b[39m, key):\n\u001b[1;32m    216\u001b[0m     \u001b[38;5;28;01mif\u001b[39;00m \u001b[38;5;129;01mnot\u001b[39;00m \u001b[38;5;28mself\u001b[39m\u001b[38;5;241m.\u001b[39m_path\u001b[38;5;241m.\u001b[39mexists():\n\u001b[0;32m--> 217\u001b[0m         \u001b[38;5;28;01mraise\u001b[39;00m \u001b[38;5;167;01mKeyError\u001b[39;00m(\u001b[38;5;124m\"\u001b[39m\u001b[38;5;124mNo such tagged analysis exists.\u001b[39m\u001b[38;5;124m\"\u001b[39m)\n\u001b[1;32m    219\u001b[0m     \u001b[38;5;28;01mif\u001b[39;00m \u001b[38;5;28misinstance\u001b[39m(key, \u001b[38;5;28mstr\u001b[39m):\n\u001b[1;32m    220\u001b[0m         key \u001b[38;5;241m=\u001b[39m key\u001b[38;5;241m.\u001b[39msplit(\u001b[38;5;124m\"\u001b[39m\u001b[38;5;124m/\u001b[39m\u001b[38;5;124m\"\u001b[39m, \u001b[38;5;241m1\u001b[39m)\n",
      "\u001b[0;31mKeyError\u001b[0m: 'No such tagged analysis exists.'"
     ]
    }
   ],
   "source": [
    "stimFileAnalysis = mouse_context.analysis[\".stimFileAnalysis/session=2203a_240603\"].get().result\n",
    "# behaviorData\" : np.ndarray, shape (4, T, N)\n",
    "#         Trial-aligned behavioral data where:\n",
    "#             - Axis 0 (length 4): signal types\n",
    "#                 [0] = trigger signal (s)\n",
    "#                 [1] = forward movement (cm/s)\n",
    "#                 [2] = side movement (cm/s)\n",
    "#                 [3] = headdirection (Yaw (degree/s))\n",
    "#             - Axis 1 (length T): time points per trial (T = frameRate * (secondsBefore + secondsAfter))\n",
    "#             - Axis 2 (length N): number of trials\n",
    "forwardVelocity = stimFileAnalysis['behaviorData'][1,:,:] #time x trials\n",
    "lateralVelocity = stimFileAnalysis['behaviorData'][2,:,:] #time x trials\n",
    "\n",
    "speed = np.full_like(forwardVelocity, fill_value=np.nan)\n",
    "for t, (forwardV, lateralV) in enumerate(zip(forwardVelocity.T, lateralVelocity.T)):\n",
    "    speed[:,t] = np.sqrt(forwardV**2 + lateralV**2)\n",
    "    \n"
   ]
  },
  {
   "cell_type": "code",
   "execution_count": null,
   "id": "eb92cea6-cf39-4514-9994-32977f1cc736",
   "metadata": {},
   "outputs": [],
   "source": []
  }
 ],
 "metadata": {
  "kernelspec": {
   "display_name": "Python 3 (ipykernel)",
   "language": "python",
   "name": "python3"
  },
  "language_info": {
   "codemirror_mode": {
    "name": "ipython",
    "version": 3
   },
   "file_extension": ".py",
   "mimetype": "text/x-python",
   "name": "python",
   "nbconvert_exporter": "python",
   "pygments_lexer": "ipython3",
   "version": "3.9.21"
  }
 },
 "nbformat": 4,
 "nbformat_minor": 5
}
