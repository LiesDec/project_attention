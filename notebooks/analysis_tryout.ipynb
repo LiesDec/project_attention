{
 "cells": [
  {
   "cell_type": "code",
   "execution_count": 1,
   "id": "48b1a12d-59b3-47c4-9925-a3612a723b8b",
   "metadata": {},
   "outputs": [],
   "source": [
    "import fklab.analysis.core.context as con\n",
    "import pandas as pd\n",
    "import mat73\n",
    "\n",
    "import h5py\n",
    "from attentionAnalyses.utilities import get_files_path\n",
    "import numpy as np"
   ]
  },
  {
   "cell_type": "code",
   "execution_count": 2,
   "id": "8865d0a4-b635-42ec-a407-1d84a6a4b970",
   "metadata": {},
   "outputs": [],
   "source": [
    "import matplotlib.pyplot as plt"
   ]
  },
  {
   "cell_type": "code",
   "execution_count": null,
   "id": "26cae095-bf33-4b1c-9778-abc17dbf75a8",
   "metadata": {},
   "outputs": [],
   "source": []
  },
  {
   "cell_type": "code",
   "execution_count": 3,
   "id": "8d08fe38-2f38-4e20-96f5-46de5dcf8ffd",
   "metadata": {
    "scrolled": true
   },
   "outputs": [
    {
     "name": "stdout",
     "output_type": "stream",
     "text": [
      "['02203/m01', '02203/m02', '02275/m01', '02276/m01', '02277/m01', '02317/m01', '02318/m01', '02352/m01']\n",
      "CamPath\n",
      "Series([], Name: CamPath, dtype: object)\n"
     ]
    },
    {
     "ename": "IndexError",
     "evalue": "list index out of range",
     "output_type": "error",
     "traceback": [
      "\u001b[0;31m---------------------------------------------------------------------------\u001b[0m",
      "\u001b[0;31mIndexError\u001b[0m                                Traceback (most recent call last)",
      "Cell \u001b[0;32mIn[3], line 10\u001b[0m\n\u001b[1;32m      4\u001b[0m paths \u001b[38;5;241m=\u001b[39m get_files_path(context, mouseIDs\u001b[38;5;241m=\u001b[39m[\u001b[38;5;124m'\u001b[39m\u001b[38;5;124m02203/m01\u001b[39m\u001b[38;5;124m'\u001b[39m], sessionTypes \u001b[38;5;241m=\u001b[39m [\u001b[38;5;124m'\u001b[39m\u001b[38;5;124m'\u001b[39m], fileTypes \u001b[38;5;241m=\u001b[39m [\u001b[38;5;124m'\u001b[39m\u001b[38;5;124mCamPath\u001b[39m\u001b[38;5;124m'\u001b[39m], OS \u001b[38;5;241m=\u001b[39m \u001b[38;5;124m'\u001b[39m\u001b[38;5;124mmac\u001b[39m\u001b[38;5;124m'\u001b[39m, root \u001b[38;5;241m=\u001b[39m \u001b[38;5;124m'\u001b[39m\u001b[38;5;124m/Volumes/nerfceph/farrowlabwip2024/\u001b[39m\u001b[38;5;124m'\u001b[39m)\n\u001b[1;32m      5\u001b[0m \u001b[38;5;66;03m# # Convert to MATLAB array format\u001b[39;00m\n\u001b[1;32m      6\u001b[0m \u001b[38;5;66;03m# array = \"[ \" + \", \".join(f'\"{path}\"' for path in paths) + \" ]\"\u001b[39;00m\n\u001b[1;32m      7\u001b[0m \n\u001b[1;32m      8\u001b[0m \u001b[38;5;66;03m# # Print the result for MATLAB usage\u001b[39;00m\n\u001b[1;32m      9\u001b[0m \u001b[38;5;66;03m# print(matlab_array)\u001b[39;00m\n\u001b[0;32m---> 10\u001b[0m \u001b[43mpaths\u001b[49m\u001b[43m[\u001b[49m\u001b[38;5;241;43m0\u001b[39;49m\u001b[43m]\u001b[49m\n",
      "\u001b[0;31mIndexError\u001b[0m: list index out of range"
     ]
    }
   ],
   "source": [
    "context = con.AnalysisContext(\"/Volumes/nerfceph/farrowlabwip2024/Data/\")\n",
    "print(context.config.mouseIDs)\n",
    "mouse_context = context['experiment/02275/type/headfixed/mouseID/m01']\n",
    "paths = get_files_path(context, mouseIDs=['02203/m01'], sessionTypes = [''], fileTypes = ['CamPath'], OS = 'mac', root = '/Volumes/nerfceph/farrowlabwip2024/')\n",
    "# # Convert to MATLAB array format\n",
    "# array = \"[ \" + \", \".join(f'\"{path}\"' for path in paths) + \" ]\"\n",
    "\n",
    "# # Print the result for MATLAB usage\n",
    "# print(matlab_array)\n",
    "paths[0]\n"
   ]
  },
  {
   "cell_type": "code",
   "execution_count": 23,
   "id": "99d0835c-e6d8-439f-a914-792e09df693b",
   "metadata": {},
   "outputs": [
    {
     "name": "stderr",
     "output_type": "stream",
     "text": [
      "ERROR:root:ERROR: MATLAB type not supported: datetime, (uint32)\n",
      "ERROR:root:ERROR: MATLAB type not supported: datetime, (uint32)\n",
      "ERROR:root:ERROR: MATLAB type not supported: datetime, (uint32)\n",
      "ERROR:root:ERROR: MATLAB type not supported: datetime, (uint32)\n",
      "ERROR:root:ERROR: MATLAB type not supported: datetime, (uint32)\n",
      "ERROR:root:ERROR: MATLAB type not supported: datetime, (uint32)\n",
      "ERROR:root:ERROR: MATLAB type not supported: datetime, (uint32)\n",
      "ERROR:root:ERROR: MATLAB type not supported: datetime, (uint32)\n",
      "ERROR:root:ERROR: MATLAB type not supported: datetime, (uint32)\n"
     ]
    }
   ],
   "source": [
    "stimData = mat73.loadmat(paths[0])"
   ]
  },
  {
   "cell_type": "code",
   "execution_count": 43,
   "id": "0628662a-a5e5-43ab-bc60-9dd619c1036b",
   "metadata": {},
   "outputs": [
    {
     "data": {
      "text/plain": [
       "dict_keys(['ALI', 'ALIcorrect', 'ALIwrong', 'Background', 'BallCamData', 'BallCamTiming', 'CameraTiming', 'Frameinfo', 'LI', 'P', 'Pcorrect', 'Pwrong', 'RewardMode', 'StateOfAgentHistory', 'StimTime', 'StimulusColour', 'StimulusContrast', 'Tend', 'cue', 'cueLength', 'e', 'errorLicks', 'i', 'ifi', 'level', 'levelHistory', 'lickData', 'lickWindowMax', 'lickWindowMin', 'locationMode', 'maxErrorLicks', 'maxWait', 'minWait', 'options', 'postCueDelay', 'randomseed', 'redFrames', 'stimHistory', 'stimLocationHistory', 'stimLocationHistoryPX', 'stimdata', 'stimulusLicks', 'stimulusType', 'subsessions', 'subsessionwait', 'timeend', 'timestart', 'waitTimes', 'weight'])"
      ]
     },
     "execution_count": 43,
     "metadata": {},
     "output_type": "execute_result"
    }
   ],
   "source": [
    "stimData.keys()"
   ]
  },
  {
   "cell_type": "code",
   "execution_count": 24,
   "id": "2c532c1b-b1c3-4583-879f-88e39023998a",
   "metadata": {},
   "outputs": [
    {
     "data": {
      "text/plain": [
       "array(9.)"
      ]
     },
     "execution_count": 24,
     "metadata": {},
     "output_type": "execute_result"
    }
   ],
   "source": [
    "stimData['subsessions']"
   ]
  },
  {
   "cell_type": "code",
   "execution_count": 50,
   "id": "7a0e7127-aa16-495d-b321-578cfe36ee04",
   "metadata": {},
   "outputs": [
    {
     "data": {
      "text/plain": [
       "dict_keys(['Attention', 'Frameinfo', 'SetUp', 'Trialtsecbegin', 'addnote', 'full_screen_az', 'full_screen_el', 'maxintensity', 'projectortype', 'randomseed', 'red_sync_nth_frame', 'redintensity', 'relativeintensity', 'reset_rng_each_trial', 'specParams', 'stimulus_trial_t', 'timeend', 'timestart', 'trials', 'tsecbegin', 'tsecend', 'type', 'update_each_nth_frame', 'wait_col', 'wait_exit', 'wait_init', 'waitrange_between_trials'])"
      ]
     },
     "execution_count": 50,
     "metadata": {},
     "output_type": "execute_result"
    }
   ],
   "source": [
    "stimData['options'].keys()\n",
    "\n"
   ]
  },
  {
   "cell_type": "code",
   "execution_count": 13,
   "id": "2e0f59af-d403-4c35-ac57-e7dba3686121",
   "metadata": {},
   "outputs": [
    {
     "name": "stderr",
     "output_type": "stream",
     "text": [
      "2025-04-29 11:02:12 | INFO | run_dlc experiment/02275/type/headfixed/mouseID/m01 | analysis, {'session': '240712_1534'}\n"
     ]
    },
    {
     "name": "stdout",
     "output_type": "stream",
     "text": [
      "/Volumes/nerfceph/farrowlabwip2024/Data/02275/headfixed/m01/analysis/run_dlc/session=240712_1534/v0\n",
      "Elapsed time: 0.0342 seconds\n"
     ]
    },
    {
     "data": {
      "text/plain": [
       "<fklab.analysis.core.analysis_io.AnalysisResult at 0x132b49490>"
      ]
     },
     "execution_count": 13,
     "metadata": {},
     "output_type": "execute_result"
    }
   ],
   "source": [
    "mouse_context.run('.run_dlc',parameters=dict(session='240712_1534'))"
   ]
  },
  {
   "cell_type": "code",
   "execution_count": 37,
   "id": "51dab957-3255-4eea-8378-860fc5ce472a",
   "metadata": {},
   "outputs": [],
   "source": [
    "session = \"240712_1534\"\n",
    "statistic = 'median'"
   ]
  },
  {
   "cell_type": "code",
   "execution_count": 42,
   "id": "46da21bf-bb80-423d-b139-2aaeb8fc6214",
   "metadata": {},
   "outputs": [
    {
     "name": "stdout",
     "output_type": "stream",
     "text": [
      "session=240712_1534\n"
     ]
    }
   ],
   "source": [
    "r = mouse_context.analysis[f\"velocityAnalysis/session=240712_1534\"].get().result"
   ]
  },
  {
   "cell_type": "code",
   "execution_count": 43,
   "id": "19ef11ae-b4ef-4e9f-b400-02293a224cb2",
   "metadata": {},
   "outputs": [
    {
     "data": {
      "text/plain": [
       "<HDF5 group \"/averageSpeedPerTrial\" (5 members)>"
      ]
     },
     "execution_count": 43,
     "metadata": {},
     "output_type": "execute_result"
    }
   ],
   "source": [
    "r['averageSpeedPerTrial']"
   ]
  },
  {
   "cell_type": "code",
   "execution_count": 30,
   "id": "209e599f-4755-411e-a530-d833428f2430",
   "metadata": {},
   "outputs": [
    {
     "name": "stdout",
     "output_type": "stream",
     "text": [
      "session=240526_1629\n",
      "session=240526_1629\n"
     ]
    },
    {
     "name": "stderr",
     "output_type": "stream",
     "text": [
      "/Users/liesdeceuninck/miniconda3/envs/farrowlab/lib/python3.9/site-packages/numpy/_core/fromnumeric.py:3596: RuntimeWarning: Mean of empty slice.\n",
      "  return _methods._mean(a, axis=axis, dtype=dtype,\n",
      "/Users/liesdeceuninck/miniconda3/envs/farrowlab/lib/python3.9/site-packages/numpy/_core/_methods.py:138: RuntimeWarning: invalid value encountered in scalar divide\n",
      "  ret = ret.dtype.type(ret / rcount)\n"
     ]
    }
   ],
   "source": [
    "func_map = {\n",
    "    'mean': np.mean,\n",
    "    'median': np.median\n",
    "}\n",
    "stimFileAnalysisResult = mouse_context.analysis[f\"stimFileAnalysis/session={session}\"].get().result\n",
    "stimFileAnalysisInfo = mouse_context.analysis[f\"stimFileAnalysis/session={session}\"].get().info\n",
    "\n",
    "frameRate = stimFileAnalysisInfo['analyze']['parameters']['frameRate']\n",
    "secondsBefore = stimFileAnalysisInfo['analyze']['parameters']['secondsBefore']\n",
    "secondsAfter = stimFileAnalysisInfo['analyze']['parameters']['secondsAfter']\n",
    "\n",
    "behaviorData = stimFileAnalysisResult['behaviorData']\n",
    "rewardedTrials = stimFileAnalysisResult['rewardedTrials']\n",
    "nonRewardedTrials = stimFileAnalysisResult['nonRewardedTrials']\n",
    "nonValidTrials = stimFileAnalysisResult['nonValidTrials']\n",
    "\n",
    "movement = np.linalg.norm(behaviorData[1:,:,:], axis=0) # size of the total movement vector (cm/s)\n",
    "\n",
    "#Calculate average speed in selected timewindows for different categories\n",
    "nSubSessions = int(stimFileAnalysisResult['nSubsessions'][()])\n",
    "nTrialsPerSubsession = int(stimFileAnalysisResult['nTrialsPerSubsession'][()])\n",
    "trialCategories = ['rewarded', 'unrewarded'] + [f'subsession{i+1}' for i in np.arange(0,nSubSessions)]\n",
    "trialCategoriesIndices = [rewardedTrials, nonRewardedTrials] + [np.arange(0,nTrialsPerSubsession+i*nTrialsPerSubsession) for i in np.arange(0,nSubSessions)]\n",
    "#exclued invalid trials:\n",
    "for i in range(len(trialCategoriesIndices)):\n",
    "    trialCategoriesIndices[i] = [t for t in trialCategoriesIndices[i] if t not in nonValidTrials]\n",
    "timeWindows = ['baseline', '3sPreStim', 'stim', '3sPostStim','aftermath']\n",
    "timeWindowsSeconds = [\n",
    "    [0, secondsBefore * frameRate],\n",
    "    [3 * frameRate, secondsBefore * frameRate],\n",
    "    [secondsBefore * frameRate, (secondsBefore+ 3) * frameRate],\n",
    "    [(secondsBefore + 3) * frameRate, (secondsBefore + 6) * frameRate],\n",
    "    [(secondsBefore + 3) * frameRate, None]  # None represents slicing to the end\n",
    "]\n",
    "avSpeedT= {}\n",
    "avMovementT= {}\n",
    "avSpeed= {}\n",
    "avMovement= {}\n",
    "for timeWindow, t in zip(timeWindows, timeWindowsSeconds):\n",
    "    avSpeedT[timeWindow]={}\n",
    "    avMovementT[timeWindow]={}\n",
    "    avSpeed[timeWindow]={}\n",
    "    avMovement[timeWindow]={}\n",
    "    for cat, trialIdx in zip(trialCategories, trialCategoriesIndices):    \n",
    "        avSpeedT[timeWindow][cat] = func_map[statistic](np.abs(behaviorData[1,t[0]:t[1],trialIdx]), axis=0) #only considering forward movement\n",
    "        avMovementT[timeWindow][cat] = func_map[statistic](movement[t[0]:t[1],trialIdx],axis=0)\n",
    "        avSpeed[timeWindow][cat] = func_map[statistic](avSpeedT[timeWindow][cat])\n",
    "        avMovement[timeWindow][cat] = func_map[statistic](avMovementT[timeWindow][cat])"
   ]
  },
  {
   "cell_type": "code",
   "execution_count": 31,
   "id": "a519b13f-cee9-4b54-8f6d-a1ed93019a57",
   "metadata": {},
   "outputs": [],
   "source": [
    "df = pd.DataFrame.from_dict(avMovement, orient='index')"
   ]
  },
  {
   "cell_type": "code",
   "execution_count": 32,
   "id": "97bcc121-84a8-4ba3-9683-6be12d01f578",
   "metadata": {},
   "outputs": [
    {
     "data": {
      "text/html": [
       "<div>\n",
       "<style scoped>\n",
       "    .dataframe tbody tr th:only-of-type {\n",
       "        vertical-align: middle;\n",
       "    }\n",
       "\n",
       "    .dataframe tbody tr th {\n",
       "        vertical-align: top;\n",
       "    }\n",
       "\n",
       "    .dataframe thead th {\n",
       "        text-align: right;\n",
       "    }\n",
       "</style>\n",
       "<table border=\"1\" class=\"dataframe\">\n",
       "  <thead>\n",
       "    <tr style=\"text-align: right;\">\n",
       "      <th></th>\n",
       "      <th>timeWindow</th>\n",
       "      <th>condition</th>\n",
       "      <th>value</th>\n",
       "    </tr>\n",
       "  </thead>\n",
       "  <tbody>\n",
       "    <tr>\n",
       "      <th>0</th>\n",
       "      <td>baseline</td>\n",
       "      <td>rewarded</td>\n",
       "      <td>3.629741</td>\n",
       "    </tr>\n",
       "    <tr>\n",
       "      <th>1</th>\n",
       "      <td>3sPreStim</td>\n",
       "      <td>rewarded</td>\n",
       "      <td>4.677084</td>\n",
       "    </tr>\n",
       "    <tr>\n",
       "      <th>2</th>\n",
       "      <td>stim</td>\n",
       "      <td>rewarded</td>\n",
       "      <td>0.796690</td>\n",
       "    </tr>\n",
       "    <tr>\n",
       "      <th>3</th>\n",
       "      <td>3sPostStim</td>\n",
       "      <td>rewarded</td>\n",
       "      <td>7.209211</td>\n",
       "    </tr>\n",
       "    <tr>\n",
       "      <th>4</th>\n",
       "      <td>aftermath</td>\n",
       "      <td>rewarded</td>\n",
       "      <td>3.137729</td>\n",
       "    </tr>\n",
       "    <tr>\n",
       "      <th>5</th>\n",
       "      <td>baseline</td>\n",
       "      <td>unrewarded</td>\n",
       "      <td>NaN</td>\n",
       "    </tr>\n",
       "    <tr>\n",
       "      <th>6</th>\n",
       "      <td>3sPreStim</td>\n",
       "      <td>unrewarded</td>\n",
       "      <td>NaN</td>\n",
       "    </tr>\n",
       "    <tr>\n",
       "      <th>7</th>\n",
       "      <td>stim</td>\n",
       "      <td>unrewarded</td>\n",
       "      <td>NaN</td>\n",
       "    </tr>\n",
       "    <tr>\n",
       "      <th>8</th>\n",
       "      <td>3sPostStim</td>\n",
       "      <td>unrewarded</td>\n",
       "      <td>NaN</td>\n",
       "    </tr>\n",
       "    <tr>\n",
       "      <th>9</th>\n",
       "      <td>aftermath</td>\n",
       "      <td>unrewarded</td>\n",
       "      <td>NaN</td>\n",
       "    </tr>\n",
       "    <tr>\n",
       "      <th>10</th>\n",
       "      <td>baseline</td>\n",
       "      <td>subsession1</td>\n",
       "      <td>3.629741</td>\n",
       "    </tr>\n",
       "    <tr>\n",
       "      <th>11</th>\n",
       "      <td>3sPreStim</td>\n",
       "      <td>subsession1</td>\n",
       "      <td>4.677084</td>\n",
       "    </tr>\n",
       "    <tr>\n",
       "      <th>12</th>\n",
       "      <td>stim</td>\n",
       "      <td>subsession1</td>\n",
       "      <td>0.796690</td>\n",
       "    </tr>\n",
       "    <tr>\n",
       "      <th>13</th>\n",
       "      <td>3sPostStim</td>\n",
       "      <td>subsession1</td>\n",
       "      <td>7.209211</td>\n",
       "    </tr>\n",
       "    <tr>\n",
       "      <th>14</th>\n",
       "      <td>aftermath</td>\n",
       "      <td>subsession1</td>\n",
       "      <td>3.137729</td>\n",
       "    </tr>\n",
       "  </tbody>\n",
       "</table>\n",
       "</div>"
      ],
      "text/plain": [
       "    timeWindow    condition     value\n",
       "0     baseline     rewarded  3.629741\n",
       "1    3sPreStim     rewarded  4.677084\n",
       "2         stim     rewarded  0.796690\n",
       "3   3sPostStim     rewarded  7.209211\n",
       "4    aftermath     rewarded  3.137729\n",
       "5     baseline   unrewarded       NaN\n",
       "6    3sPreStim   unrewarded       NaN\n",
       "7         stim   unrewarded       NaN\n",
       "8   3sPostStim   unrewarded       NaN\n",
       "9    aftermath   unrewarded       NaN\n",
       "10    baseline  subsession1  3.629741\n",
       "11   3sPreStim  subsession1  4.677084\n",
       "12        stim  subsession1  0.796690\n",
       "13  3sPostStim  subsession1  7.209211\n",
       "14   aftermath  subsession1  3.137729"
      ]
     },
     "execution_count": 32,
     "metadata": {},
     "output_type": "execute_result"
    }
   ],
   "source": [
    "# If your current index contains the timeWindow labels, reset it\n",
    "df = df.reset_index().rename(columns={'index': 'timeWindow'})\n",
    "\n",
    "# Melt to long format\n",
    "df_long = pd.melt(df, id_vars='timeWindow', var_name='condition', value_name='value')\n",
    "\n",
    "df_long"
   ]
  },
  {
   "cell_type": "code",
   "execution_count": null,
   "id": "a655cf7e-d77d-4541-8629-ae1e6c95760b",
   "metadata": {},
   "outputs": [],
   "source": []
  },
  {
   "cell_type": "code",
   "execution_count": 44,
   "id": "c4fcbbba-baa3-4278-a71e-191fd0c0b96d",
   "metadata": {},
   "outputs": [],
   "source": [
    "rows = []\n",
    "\n",
    "for timeWindow in r['averageSpeedPerTrial']:\n",
    "    for cat in r['averageSpeedPerTrial'][timeWindow]:\n",
    "        # Assume the arrays are 1D: one value per subject/trial\n",
    "        for i, (speed_val, movement_val) in enumerate(zip(r['averageSpeedPerTrial'][timeWindow][cat], r['averageMovementPerTrial'][timeWindow][cat])):\n",
    "            rows.append({\n",
    "                'timeWindow': timeWindow,\n",
    "                'trialCategory': cat,\n",
    "                'median speed (cm/s)': speed_val,\n",
    "                'median movement (cm/s)': movement_val\n",
    "            })\n",
    "\n",
    "# Convert to DataFrame\n",
    "df_long = pd.DataFrame(rows)"
   ]
  },
  {
   "cell_type": "code",
   "execution_count": 45,
   "id": "74c448fa-fe9e-4c01-b581-706848b8c824",
   "metadata": {},
   "outputs": [
    {
     "data": {
      "text/html": [
       "<div>\n",
       "<style scoped>\n",
       "    .dataframe tbody tr th:only-of-type {\n",
       "        vertical-align: middle;\n",
       "    }\n",
       "\n",
       "    .dataframe tbody tr th {\n",
       "        vertical-align: top;\n",
       "    }\n",
       "\n",
       "    .dataframe thead th {\n",
       "        text-align: right;\n",
       "    }\n",
       "</style>\n",
       "<table border=\"1\" class=\"dataframe\">\n",
       "  <thead>\n",
       "    <tr style=\"text-align: right;\">\n",
       "      <th></th>\n",
       "      <th>timeWindow</th>\n",
       "      <th>trialCategory</th>\n",
       "      <th>av_speed</th>\n",
       "      <th>av_movement</th>\n",
       "    </tr>\n",
       "  </thead>\n",
       "  <tbody>\n",
       "    <tr>\n",
       "      <th>0</th>\n",
       "      <td>3sPostStim</td>\n",
       "      <td>subsession1</td>\n",
       "      <td>10.56</td>\n",
       "      <td>67.746491</td>\n",
       "    </tr>\n",
       "    <tr>\n",
       "      <th>1</th>\n",
       "      <td>3sPostStim</td>\n",
       "      <td>subsession1</td>\n",
       "      <td>0.00</td>\n",
       "      <td>0.660000</td>\n",
       "    </tr>\n",
       "    <tr>\n",
       "      <th>2</th>\n",
       "      <td>3sPostStim</td>\n",
       "      <td>subsession1</td>\n",
       "      <td>0.66</td>\n",
       "      <td>23.218580</td>\n",
       "    </tr>\n",
       "    <tr>\n",
       "      <th>3</th>\n",
       "      <td>3sPostStim</td>\n",
       "      <td>subsession1</td>\n",
       "      <td>0.66</td>\n",
       "      <td>4.690124</td>\n",
       "    </tr>\n",
       "    <tr>\n",
       "      <th>4</th>\n",
       "      <td>3sPostStim</td>\n",
       "      <td>subsession1</td>\n",
       "      <td>0.00</td>\n",
       "      <td>0.000000</td>\n",
       "    </tr>\n",
       "    <tr>\n",
       "      <th>...</th>\n",
       "      <td>...</td>\n",
       "      <td>...</td>\n",
       "      <td>...</td>\n",
       "      <td>...</td>\n",
       "    </tr>\n",
       "    <tr>\n",
       "      <th>295</th>\n",
       "      <td>stim</td>\n",
       "      <td>unrewarded</td>\n",
       "      <td>0.00</td>\n",
       "      <td>0.000000</td>\n",
       "    </tr>\n",
       "    <tr>\n",
       "      <th>296</th>\n",
       "      <td>stim</td>\n",
       "      <td>unrewarded</td>\n",
       "      <td>0.00</td>\n",
       "      <td>0.000000</td>\n",
       "    </tr>\n",
       "    <tr>\n",
       "      <th>297</th>\n",
       "      <td>stim</td>\n",
       "      <td>unrewarded</td>\n",
       "      <td>0.00</td>\n",
       "      <td>0.000000</td>\n",
       "    </tr>\n",
       "    <tr>\n",
       "      <th>298</th>\n",
       "      <td>stim</td>\n",
       "      <td>unrewarded</td>\n",
       "      <td>0.00</td>\n",
       "      <td>0.000000</td>\n",
       "    </tr>\n",
       "    <tr>\n",
       "      <th>299</th>\n",
       "      <td>stim</td>\n",
       "      <td>unrewarded</td>\n",
       "      <td>0.00</td>\n",
       "      <td>0.000000</td>\n",
       "    </tr>\n",
       "  </tbody>\n",
       "</table>\n",
       "<p>300 rows × 4 columns</p>\n",
       "</div>"
      ],
      "text/plain": [
       "     timeWindow trialCategory  av_speed  av_movement\n",
       "0    3sPostStim   subsession1     10.56    67.746491\n",
       "1    3sPostStim   subsession1      0.00     0.660000\n",
       "2    3sPostStim   subsession1      0.66    23.218580\n",
       "3    3sPostStim   subsession1      0.66     4.690124\n",
       "4    3sPostStim   subsession1      0.00     0.000000\n",
       "..          ...           ...       ...          ...\n",
       "295        stim    unrewarded      0.00     0.000000\n",
       "296        stim    unrewarded      0.00     0.000000\n",
       "297        stim    unrewarded      0.00     0.000000\n",
       "298        stim    unrewarded      0.00     0.000000\n",
       "299        stim    unrewarded      0.00     0.000000\n",
       "\n",
       "[300 rows x 4 columns]"
      ]
     },
     "execution_count": 45,
     "metadata": {},
     "output_type": "execute_result"
    }
   ],
   "source": [
    "df_long"
   ]
  },
  {
   "cell_type": "code",
   "execution_count": 63,
   "id": "0b8faca3-039f-4bd9-9b57-9032c49ad904",
   "metadata": {},
   "outputs": [
    {
     "data": {
      "text/plain": [
       "<Axes: xlabel='timeWindow', ylabel='av_speed'>"
      ]
     },
     "execution_count": 63,
     "metadata": {},
     "output_type": "execute_result"
    },
    {
     "data": {
      "image/png": "[encoded data removed]",
      "text/plain": [
       "<Figure size 640x480 with 1 Axes>"
      ]
     },
     "metadata": {},
     "output_type": "display_data"
    }
   ],
   "source": [
    "import seaborn as sns\n",
    "fig, ax = plt.subplots()\n",
    "sns.stripplot(x=\"timeWindow\", y=\"av_speed\", hue=\"trialCategory\", data=df_long[df_long['trialCategory'].isin(['rewarded','unrewarded'])], legend=False, alpha=0.5, ax =ax)\n",
    "sns.boxplot(x=\"timeWindow\", y=\"av_speed\", hue=\"trialCategory\", data=df_long[df_long['trialCategory'].isin(['rewarded','unrewarded'])], ax=ax)\n",
    "\n"
   ]
  },
  {
   "cell_type": "code",
   "execution_count": 80,
   "id": "092ba3b2-99e8-47f6-9f4c-bad466a85af9",
   "metadata": {},
   "outputs": [
    {
     "data": {
      "text/plain": [
       "array([7.1300e+00, 6.8650e+00, 4.0000e-03, 7.8450e+00, 3.5050e+00,\n",
       "       9.7230e+00, 9.3260e+00, 3.7360e+00, 1.2858e+01, 5.8200e-01,\n",
       "       1.1931e+01, 6.1820e+00, 1.2150e+01, 1.3470e+01, 1.1287e+01,\n",
       "       1.2332e+01, 1.6630e+00, 1.5000e-02, 6.8310e+00, 1.6820e+00,\n",
       "       1.1260e+01, 5.8240e+00, 1.5511e+01, 1.2899e+01, 1.1635e+01,\n",
       "       1.1551e+01, 7.6780e+00, 1.6492e+01, 8.5110e+00, 1.2488e+01,\n",
       "       1.5881e+01, 1.5224e+01, 2.9960e+00, 1.3372e+01, 1.5020e+01,\n",
       "       9.5230e+00, 2.0000e-03, 4.5810e+00, 1.9767e+01, 1.9206e+01,\n",
       "       1.1135e+01, 0.0000e+00, 9.6490e+00, 1.5898e+01, 1.3089e+01,\n",
       "       1.1184e+01, 8.7080e+00, 8.8310e+00, 5.0000e-03, 0.0000e+00,\n",
       "       6.3060e+00, 0.0000e+00, 1.2172e+01, 8.9980e+00, 8.8410e+00,\n",
       "       1.2073e+01, 6.4180e+00, 0.0000e+00, 0.0000e+00, 0.0000e+00,\n",
       "       2.4860e+00, 7.6370e+00, 1.5508e+01, 1.4595e+01, 1.4588e+01,\n",
       "       8.8530e+00, 8.0840e+00, 0.0000e+00, 1.1047e+01, 0.0000e+00,\n",
       "       3.3690e+00, 9.2840e+00, 2.8740e+00, 1.0815e+01, 1.4695e+01,\n",
       "       1.3767e+01, 9.1770e+00, 1.0365e+01, 1.2900e+00, 0.0000e+00,\n",
       "       0.0000e+00, 1.0876e+01, 8.7810e+00, 4.7060e+00, 1.2865e+01,\n",
       "       1.3702e+01, 1.0545e+01, 1.1644e+01, 0.0000e+00, 0.0000e+00,\n",
       "       2.0000e-03, 0.0000e+00, 0.0000e+00, 8.3550e+00, 9.7420e+00,\n",
       "       1.1159e+01, 1.6056e+01, 1.1129e+01, 1.2203e+01,        nan])"
      ]
     },
     "execution_count": 80,
     "metadata": {},
     "output_type": "execute_result"
    }
   ],
   "source": [
    "np.average(np.abs(behaviorData[1,0:secondsBefore*frameRate,trialIdx]), axis=0)df = pd.DataFrame.from_dict(data, orient='index')§a§"
   ]
  },
  {
   "cell_type": "code",
   "execution_count": null,
   "id": "f475839a-9b67-463e-883f-69ae5fda0383",
   "metadata": {},
   "outputs": [],
   "source": [
    "'/Volumes/nerfceph/farrowlabwip2024/Data/02203/headfixed/m01/analysis/stimFileAnalysis/session=240524_1631'"
   ]
  },
  {
   "cell_type": "code",
   "execution_count": 67,
   "id": "a4f6e788-f8e9-4ba3-8a1a-d39c37ceed97",
   "metadata": {},
   "outputs": [
    {
     "ename": "KeyError",
     "evalue": "'No such tagged analysis exists.'",
     "output_type": "error",
     "traceback": [
      "\u001b[0;31m---------------------------------------------------------------------------\u001b[0m",
      "\u001b[0;31mKeyError\u001b[0m                                  Traceback (most recent call last)",
      "Cell \u001b[0;32mIn[67], line 1\u001b[0m\n\u001b[0;32m----> 1\u001b[0m stimFileAnalysis \u001b[38;5;241m=\u001b[39m \u001b[43mmouse_context\u001b[49m\u001b[38;5;241;43m.\u001b[39;49m\u001b[43manalysis\u001b[49m\u001b[43m[\u001b[49m\u001b[38;5;124;43m\"\u001b[39;49m\u001b[38;5;124;43m.stimFileAnalysis/session=2203a_240603\u001b[39;49m\u001b[38;5;124;43m\"\u001b[39;49m\u001b[43m]\u001b[49m\u001b[38;5;241m.\u001b[39mget()\u001b[38;5;241m.\u001b[39mresult\n\u001b[1;32m      2\u001b[0m \u001b[38;5;66;03m# behaviorData\" : np.ndarray, shape (4, T, N)\u001b[39;00m\n\u001b[1;32m      3\u001b[0m \u001b[38;5;66;03m#         Trial-aligned behavioral data where:\u001b[39;00m\n\u001b[1;32m      4\u001b[0m \u001b[38;5;66;03m#             - Axis 0 (length 4): signal types\u001b[39;00m\n\u001b[0;32m   (...)\u001b[0m\n\u001b[1;32m      9\u001b[0m \u001b[38;5;66;03m#             - Axis 1 (length T): time points per trial (T = frameRate * (secondsBefore + secondsAfter))\u001b[39;00m\n\u001b[1;32m     10\u001b[0m \u001b[38;5;66;03m#             - Axis 2 (length N): number of trials\u001b[39;00m\n\u001b[1;32m     11\u001b[0m forwardVelocity \u001b[38;5;241m=\u001b[39m stimFileAnalysis[\u001b[38;5;124m'\u001b[39m\u001b[38;5;124mbehaviorData\u001b[39m\u001b[38;5;124m'\u001b[39m][\u001b[38;5;241m1\u001b[39m,:,:] \u001b[38;5;66;03m#time x trials\u001b[39;00m\n",
      "File \u001b[0;32m~/Kloostermannerflab/analysis_context/fklab/analysis/core/analysis_mapper.py:113\u001b[0m, in \u001b[0;36mAnalysisMapper.__getitem__\u001b[0;34m(self, key)\u001b[0m\n\u001b[1;32m    110\u001b[0m obj \u001b[38;5;241m=\u001b[39m TaggedAnalysisMapper(\u001b[38;5;28mself\u001b[39m\u001b[38;5;241m.\u001b[39m_context, key)\n\u001b[1;32m    112\u001b[0m \u001b[38;5;28;01mif\u001b[39;00m \u001b[38;5;28mlen\u001b[39m(rest) \u001b[38;5;241m>\u001b[39m \u001b[38;5;241m0\u001b[39m:\n\u001b[0;32m--> 113\u001b[0m     obj \u001b[38;5;241m=\u001b[39m \u001b[43mobj\u001b[49m\u001b[38;5;241;43m.\u001b[39;49m\u001b[38;5;21;43m__getitem__\u001b[39;49m\u001b[43m(\u001b[49m\u001b[43mrest\u001b[49m\u001b[43m)\u001b[49m\n\u001b[1;32m    115\u001b[0m \u001b[38;5;28;01mreturn\u001b[39;00m obj\n",
      "File \u001b[0;32m~/Kloostermannerflab/analysis_context/fklab/analysis/core/analysis_mapper.py:217\u001b[0m, in \u001b[0;36mTaggedAnalysisMapper.__getitem__\u001b[0;34m(self, key)\u001b[0m\n\u001b[1;32m    215\u001b[0m \u001b[38;5;28;01mdef\u001b[39;00m\u001b[38;5;250m \u001b[39m\u001b[38;5;21m__getitem__\u001b[39m(\u001b[38;5;28mself\u001b[39m, key):\n\u001b[1;32m    216\u001b[0m     \u001b[38;5;28;01mif\u001b[39;00m \u001b[38;5;129;01mnot\u001b[39;00m \u001b[38;5;28mself\u001b[39m\u001b[38;5;241m.\u001b[39m_path\u001b[38;5;241m.\u001b[39mexists():\n\u001b[0;32m--> 217\u001b[0m         \u001b[38;5;28;01mraise\u001b[39;00m \u001b[38;5;167;01mKeyError\u001b[39;00m(\u001b[38;5;124m\"\u001b[39m\u001b[38;5;124mNo such tagged analysis exists.\u001b[39m\u001b[38;5;124m\"\u001b[39m)\n\u001b[1;32m    219\u001b[0m     \u001b[38;5;28;01mif\u001b[39;00m \u001b[38;5;28misinstance\u001b[39m(key, \u001b[38;5;28mstr\u001b[39m):\n\u001b[1;32m    220\u001b[0m         key \u001b[38;5;241m=\u001b[39m key\u001b[38;5;241m.\u001b[39msplit(\u001b[38;5;124m\"\u001b[39m\u001b[38;5;124m/\u001b[39m\u001b[38;5;124m\"\u001b[39m, \u001b[38;5;241m1\u001b[39m)\n",
      "\u001b[0;31mKeyError\u001b[0m: 'No such tagged analysis exists.'"
     ]
    }
   ],
   "source": [
    "stimFileAnalysis = mouse_context.analysis[\".stimFileAnalysis/session=2203a_240603\"].get().result\n",
    "# behaviorData\" : np.ndarray, shape (4, T, N)\n",
    "#         Trial-aligned behavioral data where:\n",
    "#             - Axis 0 (length 4): signal types\n",
    "#                 [0] = trigger signal (s)\n",
    "#                 [1] = forward movement (cm/s)\n",
    "#                 [2] = side movement (cm/s)\n",
    "#                 [3] = headdirection (Yaw (degree/s))\n",
    "#             - Axis 1 (length T): time points per trial (T = frameRate * (secondsBefore + secondsAfter))\n",
    "#             - Axis 2 (length N): number of trials\n",
    "forwardVelocity = stimFileAnalysis['behaviorData'][1,:,:] #time x trials\n",
    "lateralVelocity = stimFileAnalysis['behaviorData'][2,:,:] #time x trials\n",
    "\n",
    "speed = np.full_like(forwardVelocity, fill_value=np.nan)\n",
    "for t, (forwardV, lateralV) in enumerate(zip(forwardVelocity.T, lateralVelocity.T)):\n",
    "    speed[:,t] = np.sqrt(forwardV**2 + lateralV**2)\n",
    "    \n"
   ]
  },
  {
   "cell_type": "code",
   "execution_count": null,
   "id": "eb92cea6-cf39-4514-9994-32977f1cc736",
   "metadata": {},
   "outputs": [],
   "source": []
  },
  {
   "cell_type": "markdown",
   "id": "3250e4f8-9cdc-4387-9562-2ec6afcd09c4",
   "metadata": {},
   "source": [
    "# move files into folders"
   ]
  },
  {
   "cell_type": "code",
   "execution_count": 10,
   "id": "69004ad6-de7e-4c40-9415-949bc0d81336",
   "metadata": {},
   "outputs": [
    {
     "name": "stdout",
     "output_type": "stream",
     "text": [
      "240815_1432\n",
      "movie session 240815_1432 moved\n",
      "240828_1205\n",
      "movie session 240828_1205 moved\n",
      "240905_0944\n",
      "movie session 240905_0944 moved\n",
      "240811_1112\n",
      "movie session 240811_1112 moved\n",
      "240829_1215\n",
      "movie session 240829_1215 moved\n",
      "240906_1151\n",
      "movie session 240906_1151 moved\n",
      "240829_1159\n",
      "movie session 240829_1159 moved\n",
      "240819_1144\n",
      "movie session 240819_1144 moved\n",
      "240920_1006\n",
      "movie session 240920_1006 moved\n",
      "movie session 240920_1006 moved\n",
      "240818_1224\n",
      "240816_1442\n",
      "movie session 240816_1442 moved\n",
      "240916_0951\n",
      "240812_1324\n",
      "movie session 240812_1324 moved\n",
      "240820_1141\n",
      "movie session 240820_1141 moved\n",
      "240822_1145\n",
      "movie session 240822_1145 moved\n",
      "240909_1313\n",
      "movie session 240909_1313 moved\n",
      "240813_1450\n",
      "movie session 240813_1450 moved\n",
      "240904_0944\n",
      "240810_1021\n",
      "movie session 240810_1021 moved\n",
      "240902_0955\n",
      "movie session 240902_0955 moved\n",
      "240913_1144\n",
      "movie session 240913_1144 moved\n",
      "240815_1325\n",
      "movie session 240815_1325 moved\n",
      "240902_1156\n",
      "240829_1012\n",
      "movie session 240829_1012 moved\n",
      "240805_1133\n",
      "movie session 240805_1133 moved\n",
      "240816_1255\n",
      "movie session 240816_1255 moved\n",
      "240918_0944\n",
      "movie session 240918_0944 moved\n",
      "movie session 240918_0944 moved\n",
      "240919_0946\n",
      "movie session 240919_0946 moved\n",
      "movie session 240919_0946 moved\n",
      "240907_1134\n",
      "movie session 240907_1134 moved\n",
      "240911_0949\n",
      "movie session 240911_0949 moved\n",
      "240829_0954\n",
      "240809_1446\n",
      "240821_1202\n",
      "240918_1135\n",
      "movie session 240918_1135 moved\n",
      "movie session 240918_1135 moved\n",
      "240910_1131\n",
      "movie session 240910_1131 moved\n",
      "240828_1150\n",
      "movie session 240828_1150 moved\n",
      "240920_1158\n",
      "movie session 240920_1158 moved\n",
      "240812_1434\n",
      "movie session 240812_1434 moved\n",
      "240819_1129\n",
      "movie session 240819_1129 moved\n",
      "240827_1255\n",
      "movie session 240827_1255 moved\n",
      "240913_0945\n",
      "240827_1031\n",
      "240904_1151\n",
      "movie session 240904_1151 moved\n",
      "240810_1138\n",
      "movie session 240810_1138 moved\n",
      "240917_1518\n",
      "movie session 240917_1518 moved\n",
      "240816_1426\n",
      "movie session 240816_1426 moved\n",
      "240821_1147\n",
      "movie session 240821_1147 moved\n",
      "240903_1136\n",
      "movie session 240903_1136 moved\n",
      "240808_1253\n",
      "movie session 240808_1253 moved\n",
      "240809_1337\n",
      "movie session 240809_1337 moved\n",
      "240906_1135\n",
      "movie session 240906_1135 moved\n",
      "240822_0957\n",
      "movie session 240822_0957 moved\n",
      "240821_0951\n",
      "movie session 240821_0951 moved\n",
      "240823_1136\n",
      "movie session 240823_1136 moved\n",
      "240911_1118\n",
      "movie session 240911_1118 moved\n",
      "240830_1449\n",
      "movie session 240830_1449 moved\n",
      "240817_1033\n",
      "movie session 240817_1033 moved\n",
      "240818_1240\n",
      "movie session 240818_1240 moved\n",
      "240828_1001\n",
      "240813_1453\n",
      "movie session 240813_1453 moved\n",
      "240905_1152\n",
      "movie session 240905_1152 moved\n",
      "240817_1231\n",
      "movie session 240817_1231 moved\n",
      "240814_1355\n",
      "movie session 240814_1355 moved\n",
      "240916_1040\n",
      "240827_1049\n",
      "240909_0942\n",
      "movie session 240909_0942 moved\n",
      "240910_1244\n",
      "movie session 240910_1244 moved\n",
      "240907_1149\n",
      "movie session 240907_1149 moved\n",
      "240814_1244\n",
      "movie session 240814_1244 moved\n",
      "240820_0954\n",
      "movie session 240820_0954 moved\n",
      "240919_1154\n",
      "movie session 240919_1154 moved\n",
      "240910_1146\n",
      "movie session 240910_1146 moved\n",
      "240912_1000\n",
      "movie session 240912_1000 moved\n",
      "240905_1137\n",
      "movie session 240905_1137 moved\n",
      "240904_1218\n",
      "movie session 240904_1218 moved\n",
      "240907_0944\n",
      "movie session 240907_0944 moved\n",
      "240819_0947\n",
      "movie session 240819_0947 moved\n",
      "240808_1355\n",
      "movie session 240808_1355 moved\n",
      "240814_1410\n",
      "movie session 240814_1410 moved\n",
      "240827_1236\n",
      "movie session 240827_1236 moved\n",
      "240902_1139\n",
      "movie session 240902_1139 moved\n",
      "240910_0945\n",
      "movie session 240910_0945 moved\n",
      "240908_1150\n",
      "movie session 240908_1150 moved\n",
      "240906_0951\n",
      "movie session 240906_0951 moved\n",
      "240823_1152\n",
      "movie session 240823_1152 moved\n",
      "240811_0950\n",
      "movie session 240811_0950 moved\n",
      "240818_1030\n",
      "movie session 240818_1030 moved\n",
      "240909_1140\n",
      "movie session 240909_1140 moved\n",
      "240820_1156\n",
      "movie session 240820_1156 moved\n",
      "240823_0946\n",
      "movie session 240823_0946 moved\n",
      "240813_1314\n",
      "movie session 240813_1314 moved\n",
      "240830_1258\n",
      "movie session 240830_1258 moved\n",
      "240903_0955\n",
      "240815_1447\n",
      "movie session 240815_1447 moved\n",
      "240827_1057\n",
      "movie session 240827_1057 moved\n",
      "240830_1504\n",
      "movie session 240830_1504 moved\n",
      "240817_1216\n",
      "240903_1152\n",
      "movie session 240903_1152 moved\n",
      "240910_1242\n",
      "movie session 240910_1242 moved\n",
      "240909_1224\n",
      "movie session 240909_1224 moved\n",
      "240805_1041\n",
      "240822_1202\n",
      "movie session 240822_1202 moved\n",
      "240908_1206\n",
      "movie session 240908_1206 moved\n",
      "240908_1006\n",
      "movie session 240908_1006 moved\n",
      "240918_1134\n",
      "240917_1311\n",
      "movie session 240917_1311 moved\n"
     ]
    }
   ],
   "source": [
    "import os\n",
    "import shutil\n",
    "\n",
    "stim_path = '/Volumes/nerfceph/farrowlabwip2024/Data/02352/headfixed/m01/raw/StimFiles'\n",
    "cam_path = '/Volumes/nerfceph/farrowlabwip2024/Data/02352/headfixed/m01/raw/Cam'\n",
    "\n",
    "# Loop over folders in StimFiles\n",
    "for folder_name in os.listdir(stim_path):\n",
    "    stim_folder = os.path.join(stim_path, folder_name)\n",
    "    if not os.path.isdir(stim_folder):\n",
    "        continue  # Skip non-folders\n",
    "\n",
    "    # Extract timestamp substring from folder name\n",
    "    match_key = folder_name[11:22]  # 9 characters\n",
    "    print(match_key)\n",
    "\n",
    "    # Create corresponding folder in Cam\n",
    "    cam_folder = os.path.join(cam_path, folder_name)\n",
    "    os.makedirs(cam_folder, exist_ok=True)\n",
    "\n",
    "    # Loop through files in the Cam root (not subfolders)\n",
    "    for file_name in os.listdir(cam_path):\n",
    "        file_path = os.path.join(cam_path,file_name)\n",
    "        if os.path.isfile(file_path) and match_key in file_name:\n",
    "            # Move the matching file into the new folder\n",
    "            shutil.move(file_path, os.path.join(cam_folder, file_name))\n",
    "            print(f'movie session {match_key} moved') "
   ]
  },
  {
   "cell_type": "code",
   "execution_count": null,
   "id": "5dc732d6-82aa-4a3a-8828-25ad3ab00355",
   "metadata": {},
   "outputs": [],
   "source": []
  }
 ],
 "metadata": {
  "kernelspec": {
   "display_name": "Python 3 (ipykernel)",
   "language": "python",
   "name": "python3"
  },
  "language_info": {
   "codemirror_mode": {
    "name": "ipython",
    "version": 3
   },
   "file_extension": ".py",
   "mimetype": "text/x-python",
   "name": "python",
   "nbconvert_exporter": "python",
   "pygments_lexer": "ipython3",
   "version": "3.9.21"
  }
 },
 "nbformat": 4,
 "nbformat_minor": 5
}
